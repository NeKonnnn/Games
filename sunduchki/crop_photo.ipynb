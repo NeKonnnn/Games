{
 "cells": [
  {
   "cell_type": "code",
   "execution_count": 4,
   "id": "e8d71e9e",
   "metadata": {},
   "outputs": [],
   "source": [
    "import os\n",
    "\n",
    "def rename_playing_cards():\n",
    "    # Путь к исходной и новой папке\n",
    "    source_folder = 'all_cards'\n",
    "    target_folder = 'new_cards'\n",
    "\n",
    "    # Создание новой папки, если она не существует\n",
    "    if not os.path.exists(target_folder):\n",
    "        os.makedirs(target_folder)\n",
    "\n",
    "    # Определение мастей карт\n",
    "    suits = ['k', 'b', 'c', 'p']  # k - крести, b - буби, c - черви, p - пики\n",
    "\n",
    "    # Переименование файлов\n",
    "    for i in range(1, 53):\n",
    "        # Вычисление масти и номинала карты\n",
    "        suit_index = (i - 1) // 13\n",
    "        card_number = i % 13 if i % 13 != 0 else 13\n",
    "\n",
    "        # Номинал карты (Ace, 2-10, Jack, Queen, King)\n",
    "        if card_number == 1:\n",
    "            card_name = 'A'\n",
    "        elif card_number <= 10:\n",
    "            card_name = str(card_number)\n",
    "        elif card_number == 11:\n",
    "            card_name = 'J'\n",
    "        elif card_number == 12:\n",
    "            card_name = 'Q'\n",
    "        else:\n",
    "            card_name = 'K'\n",
    "\n",
    "        # Соединение номинала и масти\n",
    "        new_name = f\"{card_name}{suits[suit_index]}.jpg\"\n",
    "\n",
    "        # Переименование файла\n",
    "        os.rename(os.path.join(source_folder, f\"{i}.jpg\"), os.path.join(target_folder, new_name))\n",
    "\n",
    "    # Дополнительно переименовываем карту 55 в \"рубашку\"\n",
    "    os.rename(os.path.join(source_folder, \"55.jpg\"), os.path.join(target_folder, \"rubashka.jpg\"))\n",
    "\n",
    "rename_playing_cards()"
   ]
  }
 ],
 "metadata": {
  "kernelspec": {
   "display_name": "Python 3 (ipykernel)",
   "language": "python",
   "name": "python3"
  },
  "language_info": {
   "codemirror_mode": {
    "name": "ipython",
    "version": 3
   },
   "file_extension": ".py",
   "mimetype": "text/x-python",
   "name": "python",
   "nbconvert_exporter": "python",
   "pygments_lexer": "ipython3",
   "version": "3.11.5"
  }
 },
 "nbformat": 4,
 "nbformat_minor": 5
}
